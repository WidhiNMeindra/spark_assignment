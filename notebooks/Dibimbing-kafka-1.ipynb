{
 "cells": [
  {
   "cell_type": "code",
   "execution_count": 1,
   "id": "25846da4-c6b2-46a5-b7d1-9809732bb1b9",
   "metadata": {
    "tags": []
   },
   "outputs": [],
   "source": [
    "import json\n",
    "import uuid\n",
    "import os\n",
    "import json\n",
    "from dotenv import load_dotenv\n",
    "from pathlib import Path\n",
    "from kafka import KafkaProducer\n",
    "from faker import Faker\n",
    "from time import sleep"
   ]
  },
  {
   "cell_type": "code",
   "execution_count": 2,
   "id": "42f97822-c06f-47e0-a0a4-87a7bf1d95a9",
   "metadata": {
    "tags": []
   },
   "outputs": [
    {
     "data": {
      "text/plain": [
       "True"
      ]
     },
     "execution_count": 2,
     "metadata": {},
     "output_type": "execute_result"
    }
   ],
   "source": [
    "dotenv_path = Path('/resources/.env')\n",
    "load_dotenv(dotenv_path=dotenv_path)"
   ]
  },
  {
   "cell_type": "code",
   "execution_count": 3,
   "id": "3f89f5a9-8c75-4a38-b48d-ad72c6a13c41",
   "metadata": {
    "tags": []
   },
   "outputs": [],
   "source": [
    "kafka_host = os.getenv('KAFKA_HOST')\n",
    "#kafka_topic = os.getenv('KAFKA_TOPIC_NAME')\n",
    "#kafka_topic_partition = os.getenv('KAFKA_TOPIC_NAME')+\"-1\"\n",
    "kafka_topic_partition = \"dibimbing_batch_10\""
   ]
  },
  {
   "cell_type": "code",
   "execution_count": 6,
   "id": "a4a59d22-69c5-4e0a-b1e2-d0d77867c45b",
   "metadata": {
    "tags": []
   },
   "outputs": [
    {
     "name": "stdout",
     "output_type": "stream",
     "text": [
      "dataeng-kafka dibimbing_batch_10\n"
     ]
    }
   ],
   "source": [
    "print(kafka_host, kafka_topic_partition)"
   ]
  },
  {
   "cell_type": "code",
   "execution_count": 7,
   "id": "8515096d-3bc6-4905-98f5-eb1e6d7bfa4c",
   "metadata": {
    "tags": []
   },
   "outputs": [],
   "source": [
    "producer = KafkaProducer(bootstrap_servers=f'{kafka_host}:9092')"
   ]
  },
  {
   "cell_type": "code",
   "execution_count": 8,
   "id": "78075b5c-08c8-4c43-99a1-0689a87414c4",
   "metadata": {
    "tags": []
   },
   "outputs": [],
   "source": [
    "_instance = Faker()\n",
    "global faker\n",
    "faker = Faker()"
   ]
  },
  {
   "cell_type": "code",
   "execution_count": 11,
   "id": "503ade79-0f77-4970-8e04-ecefce397398",
   "metadata": {
    "tags": []
   },
   "outputs": [
    {
     "name": "stdout",
     "output_type": "stream",
     "text": [
      "23bf4229-82ab-43f8-94ad-fb487e2591dc RecordMetadata(topic='dibimbing_batch_10', partition=0, topic_partition=TopicPartition(topic='dibimbing_batch_10', partition=0), offset=40, timestamp=1749873175334, log_start_offset=0, checksum=None, serialized_key_size=-1, serialized_value_size=182, serialized_header_size=-1)\n",
      "21d61cb8-5ee3-400f-a937-aa0d533cf77b RecordMetadata(topic='dibimbing_batch_10', partition=0, topic_partition=TopicPartition(topic='dibimbing_batch_10', partition=0), offset=41, timestamp=1749873180375, log_start_offset=0, checksum=None, serialized_key_size=-1, serialized_value_size=182, serialized_header_size=-1)\n",
      "6b9031ed-2b01-491f-8c94-9ba2bb1feede RecordMetadata(topic='dibimbing_batch_10', partition=0, topic_partition=TopicPartition(topic='dibimbing_batch_10', partition=0), offset=42, timestamp=1749873185429, log_start_offset=0, checksum=None, serialized_key_size=-1, serialized_value_size=185, serialized_header_size=-1)\n",
      "16e87eed-cb11-4230-bd54-4891456e89d6 RecordMetadata(topic='dibimbing_batch_10', partition=0, topic_partition=TopicPartition(topic='dibimbing_batch_10', partition=0), offset=43, timestamp=1749873190447, log_start_offset=0, checksum=None, serialized_key_size=-1, serialized_value_size=188, serialized_header_size=-1)\n",
      "382dc2cd-0e1f-483e-a6b7-d2fde6c55722 RecordMetadata(topic='dibimbing_batch_10', partition=0, topic_partition=TopicPartition(topic='dibimbing_batch_10', partition=0), offset=44, timestamp=1749873195494, log_start_offset=0, checksum=None, serialized_key_size=-1, serialized_value_size=182, serialized_header_size=-1)\n",
      "25add7fa-a72d-40a3-8a50-492536c85523 RecordMetadata(topic='dibimbing_batch_10', partition=0, topic_partition=TopicPartition(topic='dibimbing_batch_10', partition=0), offset=45, timestamp=1749873200519, log_start_offset=0, checksum=None, serialized_key_size=-1, serialized_value_size=187, serialized_header_size=-1)\n",
      "7ba04c55-761a-41ca-b705-5a6e3ef1ee90 RecordMetadata(topic='dibimbing_batch_10', partition=0, topic_partition=TopicPartition(topic='dibimbing_batch_10', partition=0), offset=46, timestamp=1749873205538, log_start_offset=0, checksum=None, serialized_key_size=-1, serialized_value_size=184, serialized_header_size=-1)\n",
      "cad46def-bf56-4873-b27c-eaa88a142fda RecordMetadata(topic='dibimbing_batch_10', partition=0, topic_partition=TopicPartition(topic='dibimbing_batch_10', partition=0), offset=47, timestamp=1749873210555, log_start_offset=0, checksum=None, serialized_key_size=-1, serialized_value_size=179, serialized_header_size=-1)\n",
      "c1f5a35b-5513-4b1f-ba8c-164a5050fd51 RecordMetadata(topic='dibimbing_batch_10', partition=0, topic_partition=TopicPartition(topic='dibimbing_batch_10', partition=0), offset=48, timestamp=1749873215587, log_start_offset=0, checksum=None, serialized_key_size=-1, serialized_value_size=179, serialized_header_size=-1)\n",
      "6a34beb1-5cef-4364-a0cc-e1cc8a45c909 RecordMetadata(topic='dibimbing_batch_10', partition=0, topic_partition=TopicPartition(topic='dibimbing_batch_10', partition=0), offset=49, timestamp=1749873220628, log_start_offset=0, checksum=None, serialized_key_size=-1, serialized_value_size=186, serialized_header_size=-1)\n",
      "bc70cf14-6adc-47b1-a251-e6d1ec711d36 RecordMetadata(topic='dibimbing_batch_10', partition=0, topic_partition=TopicPartition(topic='dibimbing_batch_10', partition=0), offset=50, timestamp=1749873225654, log_start_offset=0, checksum=None, serialized_key_size=-1, serialized_value_size=189, serialized_header_size=-1)\n",
      "0d1ec782-7fc0-46c5-8b74-c1e3da07c908 RecordMetadata(topic='dibimbing_batch_10', partition=0, topic_partition=TopicPartition(topic='dibimbing_batch_10', partition=0), offset=51, timestamp=1749873230701, log_start_offset=0, checksum=None, serialized_key_size=-1, serialized_value_size=180, serialized_header_size=-1)\n",
      "8eb92e23-82e0-4bd0-bc8f-f1a6552a49ed RecordMetadata(topic='dibimbing_batch_10', partition=0, topic_partition=TopicPartition(topic='dibimbing_batch_10', partition=0), offset=52, timestamp=1749873235721, log_start_offset=0, checksum=None, serialized_key_size=-1, serialized_value_size=183, serialized_header_size=-1)\n",
      "ebba7e4c-9813-466d-8e84-1b00fbe824f4 RecordMetadata(topic='dibimbing_batch_10', partition=0, topic_partition=TopicPartition(topic='dibimbing_batch_10', partition=0), offset=53, timestamp=1749873240734, log_start_offset=0, checksum=None, serialized_key_size=-1, serialized_value_size=177, serialized_header_size=-1)\n"
     ]
    },
    {
     "ename": "KeyboardInterrupt",
     "evalue": "",
     "output_type": "error",
     "traceback": [
      "\u001b[0;31m---------------------------------------------------------------------------\u001b[0m",
      "\u001b[0;31mKeyboardInterrupt\u001b[0m                         Traceback (most recent call last)",
      "Cell \u001b[0;32mIn[11], line 26\u001b[0m\n\u001b[1;32m     24\u001b[0m \u001b[38;5;28mprint\u001b[39m(json_data[\u001b[38;5;124m'\u001b[39m\u001b[38;5;124memp_id\u001b[39m\u001b[38;5;124m'\u001b[39m],response\u001b[38;5;241m.\u001b[39mget())\n\u001b[1;32m     25\u001b[0m \u001b[38;5;66;03m# print(_payload)\u001b[39;00m\n\u001b[0;32m---> 26\u001b[0m \u001b[43msleep\u001b[49m\u001b[43m(\u001b[49m\u001b[38;5;241;43m5\u001b[39;49m\u001b[43m)\u001b[49m\n",
      "\u001b[0;31mKeyboardInterrupt\u001b[0m: "
     ]
    }
   ],
   "source": [
    "class DataGenerator(object):\n",
    "    @staticmethod\n",
    "    def get_data():\n",
    "        return [\n",
    "                uuid.uuid4().__str__(),\n",
    "                faker.name(),\n",
    "                faker.random_element(elements=('IT', 'HR', 'Sales', 'Marketing')),\n",
    "                faker.random_element(elements=('CA', 'NY', 'TX', 'FL', 'IL', 'RJ')),\n",
    "                faker.random_int(min=10000, max=150000),\n",
    "                faker.random_int(min=18, max=60),\n",
    "                faker.random_int(min=0, max=100000),\n",
    "                faker.unix_time()\n",
    "        ]\n",
    "\n",
    "for i in range(1,400):\n",
    "    columns =  [\"emp_id\", \"employee_name\", \"department\", \"state\", \"salary\", \"age\", \"bonus\", \"ts\", \"new\"]\n",
    "    data_list = DataGenerator.get_data()\n",
    "    json_data = dict(\n",
    "        zip(columns,data_list)\n",
    "    )\n",
    "    _payload = json.dumps(json_data).encode(\"utf-8\")\n",
    "    response = producer.send(topic=kafka_topic_partition, value=_payload)\n",
    "    # response = producer.send(topic=kafka_topic_partition, value=_payload, partition=2)\n",
    "    print(json_data['emp_id'],response.get())\n",
    "    # print(_payload)\n",
    "    sleep(5)"
   ]
  },
  {
   "cell_type": "code",
   "execution_count": null,
   "id": "be1f121f-6f90-441c-a027-c095f5903ac9",
   "metadata": {},
   "outputs": [],
   "source": []
  }
 ],
 "metadata": {
  "kernelspec": {
   "display_name": "Python 3 (ipykernel)",
   "language": "python",
   "name": "python3"
  },
  "language_info": {
   "codemirror_mode": {
    "name": "ipython",
    "version": 3
   },
   "file_extension": ".py",
   "mimetype": "text/x-python",
   "name": "python",
   "nbconvert_exporter": "python",
   "pygments_lexer": "ipython3",
   "version": "3.10.10"
  }
 },
 "nbformat": 4,
 "nbformat_minor": 5
}
