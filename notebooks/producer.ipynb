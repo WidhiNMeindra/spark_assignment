{
 "cells": [
  {
   "cell_type": "code",
   "execution_count": 14,
   "id": "60dad711-bbff-4281-815b-5f637bf10297",
   "metadata": {
    "tags": []
   },
   "outputs": [
    {
     "name": "stdout",
     "output_type": "stream",
     "text": [
      "Requirement already satisfied: confluent_kafka in /opt/conda/lib/python3.10/site-packages (2.10.1)\n"
     ]
    }
   ],
   "source": [
    "!pip install confluent_kafka"
   ]
  },
  {
   "cell_type": "code",
   "execution_count": 1,
   "id": "25846da4-c6b2-46a5-b7d1-9809732bb1b9",
   "metadata": {
    "tags": []
   },
   "outputs": [],
   "source": [
    "import json\n",
    "import uuid\n",
    "import os\n",
    "import json\n",
    "import random\n",
    "import time\n",
    "import uuid\n",
    "from dotenv import load_dotenv\n",
    "from pathlib import Path\n",
    "from kafka import KafkaProducer\n",
    "from faker import Faker\n",
    "from time import sleep\n",
    "from confluent_kafka import Producer"
   ]
  },
  {
   "cell_type": "code",
   "execution_count": 2,
   "id": "42f97822-c06f-47e0-a0a4-87a7bf1d95a9",
   "metadata": {
    "tags": []
   },
   "outputs": [
    {
     "data": {
      "text/plain": [
       "True"
      ]
     },
     "execution_count": 2,
     "metadata": {},
     "output_type": "execute_result"
    }
   ],
   "source": [
    "dotenv_path = Path('/resources/.env')\n",
    "load_dotenv(dotenv_path=dotenv_path)"
   ]
  },
  {
   "cell_type": "code",
   "execution_count": 12,
   "id": "3f89f5a9-8c75-4a38-b48d-ad72c6a13c41",
   "metadata": {
    "tags": []
   },
   "outputs": [],
   "source": [
    "kafka_host = os.getenv('KAFKA_HOST')\n",
    "#kafka_topic = os.getenv('KAFKA_TOPIC_NAME')\n",
    "#kafka_topic_partition = os.getenv('KAFKA_TOPIC_NAME')+\"-1\"\n",
    "kafka_topic_partition = \"nasabah_bank\""
   ]
  },
  {
   "cell_type": "code",
   "execution_count": 13,
   "id": "a4a59d22-69c5-4e0a-b1e2-d0d77867c45b",
   "metadata": {
    "tags": []
   },
   "outputs": [
    {
     "name": "stdout",
     "output_type": "stream",
     "text": [
      "dataeng-kafka nasabah_bank\n"
     ]
    }
   ],
   "source": [
    "print(kafka_host, kafka_topic_partition)"
   ]
  },
  {
   "cell_type": "code",
   "execution_count": 14,
   "id": "8ff552d2-2d53-4df6-a7b9-4e77b5a0250b",
   "metadata": {
    "tags": []
   },
   "outputs": [],
   "source": [
    "producer = KafkaProducer(bootstrap_servers=f'{kafka_host}:9092')"
   ]
  },
  {
   "cell_type": "code",
   "execution_count": 6,
   "id": "78075b5c-08c8-4c43-99a1-0689a87414c4",
   "metadata": {
    "tags": []
   },
   "outputs": [],
   "source": [
    "faker = Faker('id_ID') "
   ]
  },
  {
   "cell_type": "code",
   "execution_count": 15,
   "id": "503ade79-0f77-4970-8e04-ecefce397398",
   "metadata": {
    "tags": []
   },
   "outputs": [],
   "source": [
    "class DataGenerator(object):\n",
    "    @staticmethod\n",
    "    def get_data():\n",
    "        return [\n",
    "            uuid.uuid4().__str__(),  # ID Nasabah (UUID)\n",
    "            faker.name(),  # Nama Nasabah\n",
    "            faker.random_element(elements=('Jakarta', 'Surabaya', 'Bandung', 'Medan', 'Makassar', 'Yogyakarta')),  # Alamat (Kota)\n",
    "            faker.random_int(min=10000000, max=500000000),  # Saldo Rekening dalam IDR\n",
    "            faker.random_int(min=18, max=60),  # Umur Nasabah\n",
    "            faker.random_element(elements=('IT', 'HR', 'Marketing', 'Sales', 'Finance')),  # Status Pekerjaan\n",
    "            faker.unix_time()  # Tanggal Pembuatan Rekening (Unix Time)\n",
    "        ]"
   ]
  },
  {
   "cell_type": "code",
   "execution_count": 18,
   "id": "03a844ce-3877-4f8b-8300-a9272bbadff2",
   "metadata": {},
   "outputs": [
    {
     "name": "stdout",
     "output_type": "stream",
     "text": [
      "cfbf4f22-a5e6-44ca-a74a-feeab402433b RecordMetadata(topic='nasabah_bank', partition=1, topic_partition=TopicPartition(topic='nasabah_bank', partition=1), offset=42, timestamp=1750524047702, log_start_offset=0, checksum=None, serialized_key_size=-1, serialized_value_size=175, serialized_header_size=-1)\n",
      "5201b165-2a71-471c-b4fd-609694625dd5 RecordMetadata(topic='nasabah_bank', partition=1, topic_partition=TopicPartition(topic='nasabah_bank', partition=1), offset=43, timestamp=1750524052723, log_start_offset=0, checksum=None, serialized_key_size=-1, serialized_value_size=173, serialized_header_size=-1)\n",
      "4a383ecd-ef49-4798-a45c-07a31d2e60ca RecordMetadata(topic='nasabah_bank', partition=0, topic_partition=TopicPartition(topic='nasabah_bank', partition=0), offset=33, timestamp=1750524057730, log_start_offset=0, checksum=None, serialized_key_size=-1, serialized_value_size=175, serialized_header_size=-1)\n",
      "57dbfab5-ebf9-4030-8b2d-4e428ad692f5 RecordMetadata(topic='nasabah_bank', partition=1, topic_partition=TopicPartition(topic='nasabah_bank', partition=1), offset=44, timestamp=1750524062738, log_start_offset=0, checksum=None, serialized_key_size=-1, serialized_value_size=169, serialized_header_size=-1)\n",
      "a5c03541-e846-4869-b8d6-d9e8b3b5e95c RecordMetadata(topic='nasabah_bank', partition=1, topic_partition=TopicPartition(topic='nasabah_bank', partition=1), offset=45, timestamp=1750524067755, log_start_offset=0, checksum=None, serialized_key_size=-1, serialized_value_size=173, serialized_header_size=-1)\n",
      "9fd4b7de-5e65-47d1-8055-48ba6163d584 RecordMetadata(topic='nasabah_bank', partition=0, topic_partition=TopicPartition(topic='nasabah_bank', partition=0), offset=34, timestamp=1750524072761, log_start_offset=0, checksum=None, serialized_key_size=-1, serialized_value_size=172, serialized_header_size=-1)\n",
      "2e0b9422-11b5-4400-8b09-0c3e7a02f9b6 RecordMetadata(topic='nasabah_bank', partition=0, topic_partition=TopicPartition(topic='nasabah_bank', partition=0), offset=35, timestamp=1750524077771, log_start_offset=0, checksum=None, serialized_key_size=-1, serialized_value_size=173, serialized_header_size=-1)\n",
      "713ab7f8-7c8c-4c90-8167-01eb44b32184 RecordMetadata(topic='nasabah_bank', partition=1, topic_partition=TopicPartition(topic='nasabah_bank', partition=1), offset=46, timestamp=1750524082781, log_start_offset=0, checksum=None, serialized_key_size=-1, serialized_value_size=176, serialized_header_size=-1)\n"
     ]
    },
    {
     "ename": "KeyboardInterrupt",
     "evalue": "",
     "output_type": "error",
     "traceback": [
      "\u001b[0;31m---------------------------------------------------------------------------\u001b[0m",
      "\u001b[0;31mKeyboardInterrupt\u001b[0m                         Traceback (most recent call last)",
      "Cell \u001b[0;32mIn[18], line 8\u001b[0m\n\u001b[1;32m      6\u001b[0m response \u001b[38;5;241m=\u001b[39m producer\u001b[38;5;241m.\u001b[39msend(topic\u001b[38;5;241m=\u001b[39mkafka_topic_partition, value\u001b[38;5;241m=\u001b[39m_payload)\n\u001b[1;32m      7\u001b[0m \u001b[38;5;28mprint\u001b[39m(json_data[\u001b[38;5;124m'\u001b[39m\u001b[38;5;124mnasabah_id\u001b[39m\u001b[38;5;124m'\u001b[39m], response\u001b[38;5;241m.\u001b[39mget())\n\u001b[0;32m----> 8\u001b[0m \u001b[43msleep\u001b[49m\u001b[43m(\u001b[49m\u001b[38;5;241;43m5\u001b[39;49m\u001b[43m)\u001b[49m\n",
      "\u001b[0;31mKeyboardInterrupt\u001b[0m: "
     ]
    }
   ],
   "source": [
    "for i in range(1, 400):\n",
    "    columns = [\"nasabah_id\", \"nama\", \"alamat\", \"saldo\", \"umur\", \"pekerjaan\", \"ts\"]\n",
    "    data_list = DataGenerator.get_data()\n",
    "    json_data = dict(zip(columns, data_list))\n",
    "    _payload = json.dumps(json_data).encode(\"utf-8\")\n",
    "    response = producer.send(topic=kafka_topic_partition, value=_payload)\n",
    "    print(json_data['nasabah_id'], response.get())\n",
    "    sleep(5)"
   ]
  },
  {
   "cell_type": "code",
   "execution_count": null,
   "id": "13b7e3d5-559a-44bd-8f6e-1233baa26556",
   "metadata": {},
   "outputs": [],
   "source": []
  }
 ],
 "metadata": {
  "kernelspec": {
   "display_name": "Python 3 (ipykernel)",
   "language": "python",
   "name": "python3"
  },
  "language_info": {
   "codemirror_mode": {
    "name": "ipython",
    "version": 3
   },
   "file_extension": ".py",
   "mimetype": "text/x-python",
   "name": "python",
   "nbconvert_exporter": "python",
   "pygments_lexer": "ipython3",
   "version": "3.10.10"
  }
 },
 "nbformat": 4,
 "nbformat_minor": 5
}
